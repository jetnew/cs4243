{
 "cells": [
  {
   "cell_type": "code",
   "execution_count": 1,
   "metadata": {},
   "outputs": [],
   "source": [
    "import torch\n",
    "import torch.nn as nn\n",
    "import torch.nn.functional as F\n",
    "from model_training import DoodleDataset, RealDataset"
   ]
  },
  {
   "cell_type": "code",
   "execution_count": 2,
   "metadata": {},
   "outputs": [
    {
     "name": "stdout",
     "output_type": "stream",
     "text": [
      "Loaded dataset at 'dataset/quickdraw/quickdraw.npy'.\n",
      "Loaded dataset at 'dataset/sketchy/sketchy_doodle.npy'.\n",
      "Loaded dataset at 'dataset/tuberlin/tuberlin.npy'.\n",
      "Loaded dataset at 'dataset/google_images/google_doodles.npy'.\n",
      "Loaded dataset at 'dataset/cifar/cifar.npy'.\n",
      "Loaded dataset at 'dataset/sketchy/sketchy_real.npy'.\n",
      "Loaded dataset at 'dataset/google_images/google_real.npy'.\n"
     ]
    }
   ],
   "source": [
    "doodle_val_set = DoodleDataset(train=False)\n",
    "real_val_set = RealDataset(train=False)"
   ]
  },
  {
   "cell_type": "code",
   "execution_count": 3,
   "metadata": {},
   "outputs": [],
   "source": [
    "def convbn(in_channels, out_channels, kernel_size, stride, padding, bias):\n",
    "    return nn.Sequential(\n",
    "        nn.Conv2d(in_channels, out_channels, kernel_size=kernel_size, stride=stride, padding=padding, bias=bias),\n",
    "        nn.BatchNorm2d(out_channels),\n",
    "        nn.ReLU(inplace=True)\n",
    "    )\n",
    "\n",
    "class CNN(nn.Module):\n",
    "    CHANNELS = [64, 128, 192, 256, 512]\n",
    "    POOL = (1, 1)\n",
    "    def __init__(self, n_channels, n_classes=9, dropout=0):\n",
    "        super(CNN, self).__init__()\n",
    "        layer1 = convbn(n_channels, self.CHANNELS[1], kernel_size=3, stride=2, padding=1, bias=True)\n",
    "        layer2 = convbn(self.CHANNELS[1], self.CHANNELS[2], kernel_size=3, stride=2, padding=1, bias=True)\n",
    "        layer3 = convbn(self.CHANNELS[2], self.CHANNELS[3], kernel_size=3, stride=2, padding=1, bias=True)\n",
    "        layer4 = convbn(self.CHANNELS[3], self.CHANNELS[4], kernel_size=3, stride=2, padding=1, bias=True)\n",
    "        pool = nn.AdaptiveAvgPool2d(self.POOL)\n",
    "        self.layers = nn.Sequential(layer1, layer2, layer3, layer4, pool)\n",
    "        self.nn = nn.Linear(self.POOL[0] * self.POOL[1] * self.CHANNELS[4], n_classes)\n",
    "        self.dropout = nn.Dropout(p=dropout)\n",
    "    def forward(self, x, return_feats=False):\n",
    "        feats = self.layers(x).flatten(1)\n",
    "        x = self.nn(self.dropout(feats))\n",
    "        if return_feats:\n",
    "            return x, feats\n",
    "        return x"
   ]
  },
  {
   "cell_type": "code",
   "execution_count": 4,
   "metadata": {},
   "outputs": [
    {
     "name": "stdout",
     "output_type": "stream",
     "text": [
      "torch.Size([100, 9])\n"
     ]
    }
   ],
   "source": [
    "x = torch.rand(100, 3, 64, 64)\n",
    "y = CNN(3)(x)\n",
    "print (y.shape)"
   ]
  },
  {
   "cell_type": "code",
   "execution_count": 5,
   "metadata": {},
   "outputs": [],
   "source": [
    "doodle_model = CNN(1, 9)\n",
    "real_model = CNN(3, 9)"
   ]
  },
  {
   "cell_type": "code",
   "execution_count": 6,
   "metadata": {},
   "outputs": [
    {
     "name": "stdout",
     "output_type": "stream",
     "text": [
      "building database... [0 / 11141]\n",
      "building database... [1000 / 11141]\n",
      "building database... [2000 / 11141]\n",
      "building database... [3000 / 11141]\n",
      "building database... [4000 / 11141]\n",
      "building database... [5000 / 11141]\n",
      "building database... [6000 / 11141]\n",
      "building database... [7000 / 11141]\n",
      "building database... [8000 / 11141]\n",
      "building database... [9000 / 11141]\n",
      "building database... [10000 / 11141]\n",
      "building database... [11000 / 11141]\n",
      "Engine ready. Database size: 11141\n"
     ]
    }
   ],
   "source": [
    "from engine import Engine\n",
    "engine = Engine(real_val_set, doodle_model, real_model)"
   ]
  },
  {
   "cell_type": "code",
   "execution_count": 31,
   "metadata": {},
   "outputs": [
    {
     "data": {
      "image/png": "[encoded data removed]",
      "text/plain": [
       "<Figure size 432x288 with 1 Axes>"
      ]
     },
     "metadata": {
      "needs_background": "light"
     },
     "output_type": "display_data"
    }
   ],
   "source": [
    "import matplotlib.pyplot as plt\n",
    "\n",
    "doodle, doodle_label = doodle_val_set[11]    # a random doodle sample\n",
    "plt.imshow(doodle.reshape(64,64), cmap=\"gray\")\n",
    "plt.show()"
   ]
  },
  {
   "cell_type": "code",
   "execution_count": 9,
   "metadata": {},
   "outputs": [
    {
     "name": "stdout",
     "output_type": "stream",
     "text": [
      "torch.Size([1, 64, 64])\n"
     ]
    }
   ],
   "source": [
    "print(doodle.shape)"
   ]
  },
  {
   "cell_type": "code",
   "execution_count": 25,
   "metadata": {},
   "outputs": [
    {
     "name": "stdout",
     "output_type": "stream",
     "text": [
      "shape:  torch.Size([1, 64, 64])\n",
      "[[[  8  85 163]\n",
      "  [  5  75 153]\n",
      "  [  9  69 150]\n",
      "  ...\n",
      "  [ 35  35  44]\n",
      "  [ 35  33  41]\n",
      "  [ 33  31  39]]\n",
      "\n",
      " [[ 59 107 208]\n",
      "  [ 47 106 200]\n",
      "  [ 29  98 185]\n",
      "  ...\n",
      "  [ 36  33  40]\n",
      "  [ 35  32  38]\n",
      "  [ 34  31  37]]\n",
      "\n",
      " [[ 68 109 214]\n",
      "  [ 71 113 217]\n",
      "  [ 72 115 219]\n",
      "  ...\n",
      "  [ 39  34  39]\n",
      "  [ 37  33  36]\n",
      "  [ 29  27  31]]\n",
      "\n",
      " ...\n",
      "\n",
      " [[ 54 119 185]\n",
      "  [ 58 121 188]\n",
      "  [ 55 120 188]\n",
      "  ...\n",
      "  [ 64  73  92]\n",
      "  [ 67  75  98]\n",
      "  [ 64  72  93]]\n",
      "\n",
      " [[ 31  70 126]\n",
      "  [ 47 104 170]\n",
      "  [ 45 113 182]\n",
      "  ...\n",
      "  [ 68  76  97]\n",
      "  [ 66  74  97]\n",
      "  [ 62  72  93]]\n",
      "\n",
      " [[ 26  91 155]\n",
      "  [ 36 103 171]\n",
      "  [ 41 110 179]\n",
      "  ...\n",
      "  [ 65  75  96]\n",
      "  [ 64  72  94]\n",
      "  [ 61  72  93]]]\n"
     ]
    }
   ],
   "source": [
    "out_samples = engine.query(doodle, topk=10)\n",
    "print (out_samples[3][0])"
   ]
  },
  {
   "cell_type": "code",
   "execution_count": 14,
   "metadata": {
    "scrolled": false
   },
   "outputs": [
    {
     "name": "stdout",
     "output_type": "stream",
     "text": [
      "doodle label:  1\n",
      "3\n",
      "8\n",
      "8\n",
      "2\n",
      "2\n",
      "8\n",
      "3\n",
      "8\n",
      "8\n",
      "3\n"
     ]
    },
    {
     "data": {
      "image/png": "[encoded data removed]",
      "text/plain": [
       "<Figure size 432x288 with 1 Axes>"
      ]
     },
     "metadata": {
      "needs_background": "light"
     },
     "output_type": "display_data"
    }
   ],
   "source": [
    "# check the labels of the returned samples, which ideally should be the same as the doodle_label\n",
    "print (\"doodle label: \", doodle_label)\n",
    "plt.subplot()\n",
    "for pic, label in out_samples:\n",
    "    print (label)"
   ]
  }
 ],
 "metadata": {
  "kernelspec": {
   "display_name": "Python 3",
   "language": "python",
   "name": "python3"
  },
  "language_info": {
   "codemirror_mode": {
    "name": "ipython",
    "version": 3
   },
   "file_extension": ".py",
   "mimetype": "text/x-python",
   "name": "python",
   "nbconvert_exporter": "python",
   "pygments_lexer": "ipython3",
   "version": "3.6.13"
  }
 },
 "nbformat": 4,
 "nbformat_minor": 4
}
