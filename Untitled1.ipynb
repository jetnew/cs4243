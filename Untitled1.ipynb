{
 "cells": [
  {
   "cell_type": "code",
   "execution_count": 1,
   "id": "ae0b4669-f632-494b-bb4d-58001bf942ab",
   "metadata": {},
   "outputs": [],
   "source": [
    "from dataset_collection import *"
   ]
  },
  {
   "cell_type": "code",
   "execution_count": 2,
   "id": "9d207f2f-f44c-4dbd-837c-77cf16a7ee18",
   "metadata": {},
   "outputs": [
    {
     "name": "stdout",
     "output_type": "stream",
     "text": [
      "Loaded dataset at 'dataset/quickdraw/quickdraw.npy'.\n",
      "Loaded dataset at 'dataset/sketchy/sketchy_doodle.npy'.\n",
      "Loaded dataset at 'dataset/tuberlin/tuberlin.npy'.\n",
      "Loaded dataset at 'dataset/google_images/google_doodles.npy'.\n"
     ]
    }
   ],
   "source": [
    "d = get_doodle_datasets()"
   ]
  },
  {
   "cell_type": "code",
   "execution_count": 4,
   "id": "f64aeae0-e964-4c0b-9890-fcaf6a115e0a",
   "metadata": {},
   "outputs": [],
   "source": [
    "dd = collapse_datasets(d)"
   ]
  },
  {
   "cell_type": "code",
   "execution_count": 6,
   "id": "a2ba521e-7d20-44d8-b627-6c1572d28b80",
   "metadata": {},
   "outputs": [
    {
     "name": "stdout",
     "output_type": "stream",
     "text": [
      "Image shape: (64, 64)\n",
      "No. classes: 9\n",
      "Classes: airplane, bird, car, cat, dog, frog, horse, ship, truck\n",
      "Count per class:\n",
      "- airplane: 2041\n",
      "- bird: 2039\n",
      "- car: 2073\n",
      "- cat: 2048\n",
      "- dog: 2046\n",
      "- frog: 1973\n",
      "- horse: 2064\n",
      "- ship: 1462\n",
      "- truck: 2040\n",
      "Dataset size: 17786\n"
     ]
    }
   ],
   "source": [
    "print_dataset(dd)"
   ]
  },
  {
   "cell_type": "code",
   "execution_count": 7,
   "id": "5878a34a-d6f2-4695-9f56-1e28e29365f6",
   "metadata": {},
   "outputs": [
    {
     "name": "stdout",
     "output_type": "stream",
     "text": [
      "Loaded dataset at 'dataset/cifar/cifar.npy'.\n",
      "Loaded dataset at 'dataset/sketchy/sketchy_real.npy'.\n",
      "Loaded dataset at 'dataset/google_images/google_real.npy'.\n",
      "Image shape: (64, 64, 3)\n",
      "No. classes: 9\n",
      "Classes: airplane, car, bird, cat, dog, frog, horse, ship, truck\n",
      "Count per class:\n",
      "- airplane: 6205\n",
      "- car: 6200\n",
      "- bird: 6200\n",
      "- cat: 6200\n",
      "- dog: 6200\n",
      "- frog: 6200\n",
      "- horse: 6200\n",
      "- ship: 6100\n",
      "- truck: 6200\n",
      "Dataset size: 55705\n"
     ]
    }
   ],
   "source": [
    "print_dataset(collapse_datasets(get_real_datasets()))"
   ]
  }
 ],
 "metadata": {
  "kernelspec": {
   "display_name": "Python (cs4243)",
   "language": "python",
   "name": "cs4243"
  },
  "language_info": {
   "codemirror_mode": {
    "name": "ipython",
    "version": 3
   },
   "file_extension": ".py",
   "mimetype": "text/x-python",
   "name": "python",
   "nbconvert_exporter": "python",
   "pygments_lexer": "ipython3",
   "version": "3.8.5"
  }
 },
 "nbformat": 4,
 "nbformat_minor": 5
}
